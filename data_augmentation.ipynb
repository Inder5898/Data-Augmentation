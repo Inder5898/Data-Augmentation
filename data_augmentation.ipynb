{
  "nbformat": 4,
  "nbformat_minor": 0,
  "metadata": {
    "colab": {
      "name": "data_augmentation.ipynb",
      "provenance": [],
      "collapsed_sections": []
    },
    "kernelspec": {
      "name": "python3",
      "display_name": "Python 3"
    }
  },
  "cells": [
    {
      "cell_type": "code",
      "metadata": {
        "id": "7PZUJ6EPjc3X"
      },
      "source": [
        "import cv2\n",
        "import numpy as np\n",
        "from skimage import io \n",
        "from skimage.transform import rotate, AffineTransform, warp\n",
        "import matplotlib.pyplot as plt\n",
        "import random\n",
        "from skimage import img_as_ubyte\n",
        "import os\n",
        "from skimage.util import random_noise\n"
      ],
      "execution_count": null,
      "outputs": []
    },
    {
      "cell_type": "code",
      "metadata": {
        "id": "2HMm7meFlEaB"
      },
      "source": [
        "img= cv2.imread(r\"F:\\dataset\\blood\\ALL_IDB1\\all_patient\\Im004_1.jpg\")\n",
        "img= cv2.cvtColor(img, cv2.COLOR_RGB2BGR)"
      ],
      "execution_count": null,
      "outputs": []
    },
    {
      "cell_type": "code",
      "metadata": {
        "id": "JcG--ypQlFk3"
      },
      "source": [
        "img= cv2.resize(img,(224,224))\n",
        "img.shape\n",
        "plt.imshow(img)\n",
        "plt.show()"
      ],
      "execution_count": null,
      "outputs": []
    },
    {
      "cell_type": "code",
      "metadata": {
        "id": "jP0oZexNlQ4b"
      },
      "source": [
        "#plt.subplot(111) \n",
        "plt.title(\"Original Image\") \n",
        "plt.imshow(img)\n",
        "plt.show()\n",
        "hflipped_image= np.fliplr(img) #fliplr reverse the order of columns of pixels in matrix\n",
        "#plt.subplot(111) \n",
        "plt.title(\"Horizontally flipped\")\n",
        "plt.imshow(hflipped_image)\n",
        "plt.show()\n",
        "vflipped_image= np.flipud(img) #flipud reverse the order of rows of pixels in matrix\n",
        "plt.show()\n",
        "plt.title(\"Vertically flipped\")\n",
        "plt.imshow(vflipped_image)\n",
        "plt.show()\n",
        "r_image = rotate(img, angle=180) # angle value is positive for anticlockwise rotation \n",
        "plt.show()\n",
        "plt.title(\"Rtated image\")\n",
        "plt.imshow(r_image)\n",
        "plt.show()\n",
        "transform = AffineTransform(translation=(-150,0))  # (-200,0) are x and y coordinate, change it see the effect\n",
        "warp_image = warp(img,transform, mode=\"wrap\")\n",
        "plt.show()\n",
        "plt.title(\"warp_image\")\n",
        "plt.imshow(warp_image)\n",
        "plt.show()\n",
        "noisy_image= random_noise(img)\n",
        "plt.show()\n",
        "plt.title(\"noisy_image\")\n",
        "plt.imshow(noisy_image)\n",
        "plt.show()\n",
        "blur_image= cv2.GaussianBlur(img, (11,11),0)\n",
        "plt.title('Blurry image')\n",
        "plt.imshow(blur_image)\n",
        "plt.show()"
      ],
      "execution_count": null,
      "outputs": []
    }
  ]
}